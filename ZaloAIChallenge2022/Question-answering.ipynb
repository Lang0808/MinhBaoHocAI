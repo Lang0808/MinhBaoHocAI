{
 "cells": [
  {
   "cell_type": "code",
   "execution_count": 55,
   "metadata": {},
   "outputs": [
    {
     "name": "stdout",
     "output_type": "stream",
     "text": [
      "Requirement already satisfied: transformers in c:\\users\\minh bao\\appdata\\local\\programs\\python\\python39\\lib\\site-packages (4.24.0)\n",
      "Requirement already satisfied: packaging>=20.0 in c:\\users\\minh bao\\appdata\\local\\programs\\python\\python39\\lib\\site-packages (from transformers) (21.3)\n",
      "Requirement already satisfied: tokenizers!=0.11.3,<0.14,>=0.11.1 in c:\\users\\minh bao\\appdata\\local\\programs\\python\\python39\\lib\\site-packages (from transformers) (0.13.1)\n",
      "Requirement already satisfied: tqdm>=4.27 in c:\\users\\minh bao\\appdata\\local\\programs\\python\\python39\\lib\\site-packages (from transformers) (4.64.0)\n",
      "Requirement already satisfied: huggingface-hub<1.0,>=0.10.0 in c:\\users\\minh bao\\appdata\\local\\programs\\python\\python39\\lib\\site-packages (from transformers) (0.10.1)\n",
      "Requirement already satisfied: numpy>=1.17 in c:\\users\\minh bao\\appdata\\local\\programs\\python\\python39\\lib\\site-packages (from transformers) (1.21.6)\n",
      "Requirement already satisfied: filelock in c:\\users\\minh bao\\appdata\\local\\programs\\python\\python39\\lib\\site-packages (from transformers) (3.4.2)\n",
      "Requirement already satisfied: requests in c:\\users\\minh bao\\appdata\\local\\programs\\python\\python39\\lib\\site-packages (from transformers) (2.27.1)\n",
      "Requirement already satisfied: pyyaml>=5.1 in c:\\users\\minh bao\\appdata\\local\\programs\\python\\python39\\lib\\site-packages (from transformers) (6.0)\n",
      "Requirement already satisfied: regex!=2019.12.17 in c:\\users\\minh bao\\appdata\\local\\programs\\python\\python39\\lib\\site-packages (from transformers) (2022.10.31)\n",
      "Requirement already satisfied: typing-extensions>=3.7.4.3 in c:\\users\\minh bao\\appdata\\local\\programs\\python\\python39\\lib\\site-packages (from huggingface-hub<1.0,>=0.10.0->transformers) (4.4.0)\n",
      "Requirement already satisfied: pyparsing!=3.0.5,>=2.0.2 in c:\\users\\minh bao\\appdata\\local\\programs\\python\\python39\\lib\\site-packages (from packaging>=20.0->transformers) (3.0.8)\n",
      "Requirement already satisfied: colorama in c:\\users\\minh bao\\appdata\\local\\programs\\python\\python39\\lib\\site-packages (from tqdm>=4.27->transformers) (0.4.4)\n",
      "Requirement already satisfied: urllib3<1.27,>=1.21.1 in c:\\users\\minh bao\\appdata\\local\\programs\\python\\python39\\lib\\site-packages (from requests->transformers) (1.26.8)\n",
      "Requirement already satisfied: certifi>=2017.4.17 in c:\\users\\minh bao\\appdata\\local\\programs\\python\\python39\\lib\\site-packages (from requests->transformers) (2021.10.8)\n",
      "Requirement already satisfied: charset-normalizer~=2.0.0 in c:\\users\\minh bao\\appdata\\local\\programs\\python\\python39\\lib\\site-packages (from requests->transformers) (2.0.12)\n",
      "Requirement already satisfied: idna<4,>=2.5 in c:\\users\\minh bao\\appdata\\local\\programs\\python\\python39\\lib\\site-packages (from requests->transformers) (3.3)\n",
      "Note: you may need to restart the kernel to use updated packages.\n"
     ]
    },
    {
     "name": "stderr",
     "output_type": "stream",
     "text": [
      "WARNING: You are using pip version 22.0.4; however, version 22.3.1 is available.\n",
      "You should consider upgrading via the 'c:\\Users\\Minh Bao\\AppData\\Local\\Programs\\Python\\Python39\\python.exe -m pip install --upgrade pip' command.\n"
     ]
    },
    {
     "name": "stdout",
     "output_type": "stream",
     "text": [
      "Requirement already satisfied: tokenizers in c:\\users\\minh bao\\appdata\\local\\programs\\python\\python39\\lib\\site-packages (0.13.1)\n",
      "Note: you may need to restart the kernel to use updated packages.\n"
     ]
    },
    {
     "name": "stderr",
     "output_type": "stream",
     "text": [
      "WARNING: You are using pip version 22.0.4; however, version 22.3.1 is available.\n",
      "You should consider upgrading via the 'c:\\Users\\Minh Bao\\AppData\\Local\\Programs\\Python\\Python39\\python.exe -m pip install --upgrade pip' command.\n"
     ]
    },
    {
     "name": "stdout",
     "output_type": "stream",
     "text": [
      "^C\n",
      "Note: you may need to restart the kernel to use updated packages.\n"
     ]
    },
    {
     "name": "stderr",
     "output_type": "stream",
     "text": [
      "ERROR: Could not find a version that satisfies the requirement bz2 (from versions: none)\n",
      "ERROR: No matching distribution found for bz2\n",
      "WARNING: You are using pip version 22.0.4; however, version 22.3.1 is available.\n",
      "You should consider upgrading via the 'c:\\Users\\Minh Bao\\AppData\\Local\\Programs\\Python\\Python39\\python.exe -m pip install --upgrade pip' command.\n"
     ]
    },
    {
     "name": "stdout",
     "output_type": "stream",
     "text": [
      "Requirement already satisfied: torch in c:\\users\\minh bao\\appdata\\local\\programs\\python\\python39\\lib\\site-packages (1.13.0)\n",
      "Requirement already satisfied: typing-extensions in c:\\users\\minh bao\\appdata\\local\\programs\\python\\python39\\lib\\site-packages (from torch) (4.4.0)\n",
      "Note: you may need to restart the kernel to use updated packages.\n"
     ]
    },
    {
     "name": "stderr",
     "output_type": "stream",
     "text": [
      "WARNING: You are using pip version 22.0.4; however, version 22.3.1 is available.\n",
      "You should consider upgrading via the 'c:\\Users\\Minh Bao\\AppData\\Local\\Programs\\Python\\Python39\\python.exe -m pip install --upgrade pip' command.\n"
     ]
    },
    {
     "name": "stdout",
     "output_type": "stream",
     "text": [
      "Requirement already satisfied: torch in c:\\users\\minh bao\\appdata\\local\\programs\\python\\python39\\lib\\site-packages (1.13.0)Note: you may need to restart the kernel to use updated packages.\n",
      "\n",
      "Requirement already satisfied: torchvision in c:\\users\\minh bao\\appdata\\local\\programs\\python\\python39\\lib\\site-packages (0.14.0)\n",
      "Requirement already satisfied: torchaudio in c:\\users\\minh bao\\appdata\\local\\programs\\python\\python39\\lib\\site-packages (0.13.0)\n",
      "Requirement already satisfied: typing-extensions in c:\\users\\minh bao\\appdata\\local\\programs\\python\\python39\\lib\\site-packages (from torch) (4.4.0)\n",
      "Requirement already satisfied: numpy in c:\\users\\minh bao\\appdata\\local\\programs\\python\\python39\\lib\\site-packages (from torchvision) (1.21.6)\n",
      "Requirement already satisfied: requests in c:\\users\\minh bao\\appdata\\local\\programs\\python\\python39\\lib\\site-packages (from torchvision) (2.27.1)\n",
      "Requirement already satisfied: pillow!=8.3.*,>=5.3.0 in c:\\users\\minh bao\\appdata\\local\\programs\\python\\python39\\lib\\site-packages (from torchvision) (9.0.1)\n",
      "Requirement already satisfied: certifi>=2017.4.17 in c:\\users\\minh bao\\appdata\\local\\programs\\python\\python39\\lib\\site-packages (from requests->torchvision) (2021.10.8)\n",
      "Requirement already satisfied: idna<4,>=2.5 in c:\\users\\minh bao\\appdata\\local\\programs\\python\\python39\\lib\\site-packages (from requests->torchvision) (3.3)\n",
      "Requirement already satisfied: urllib3<1.27,>=1.21.1 in c:\\users\\minh bao\\appdata\\local\\programs\\python\\python39\\lib\\site-packages (from requests->torchvision) (1.26.8)\n",
      "Requirement already satisfied: charset-normalizer~=2.0.0 in c:\\users\\minh bao\\appdata\\local\\programs\\python\\python39\\lib\\site-packages (from requests->torchvision) (2.0.12)\n"
     ]
    },
    {
     "name": "stderr",
     "output_type": "stream",
     "text": [
      "WARNING: You are using pip version 22.0.4; however, version 22.3.1 is available.\n",
      "You should consider upgrading via the 'c:\\Users\\Minh Bao\\AppData\\Local\\Programs\\Python\\Python39\\python.exe -m pip install --upgrade pip' command.\n"
     ]
    },
    {
     "name": "stdout",
     "output_type": "stream",
     "text": [
      "Requirement already satisfied: datasets in c:\\users\\minh bao\\appdata\\local\\programs\\python\\python39\\lib\\site-packages (2.6.1)\n",
      "Requirement already satisfied: numpy>=1.17 in c:\\users\\minh bao\\appdata\\local\\programs\\python\\python39\\lib\\site-packages (from datasets) (1.21.6)\n",
      "Requirement already satisfied: pyarrow>=6.0.0 in c:\\users\\minh bao\\appdata\\local\\programs\\python\\python39\\lib\\site-packages (from datasets) (10.0.0)\n",
      "Requirement already satisfied: responses<0.19 in c:\\users\\minh bao\\appdata\\local\\programs\\python\\python39\\lib\\site-packages (from datasets) (0.18.0)\n",
      "Requirement already satisfied: pyyaml>=5.1 in c:\\users\\minh bao\\appdata\\local\\programs\\python\\python39\\lib\\site-packages (from datasets) (6.0)\n",
      "Requirement already satisfied: pandas in c:\\users\\minh bao\\appdata\\local\\programs\\python\\python39\\lib\\site-packages (from datasets) (1.4.4)\n",
      "Requirement already satisfied: multiprocess in c:\\users\\minh bao\\appdata\\local\\programs\\python\\python39\\lib\\site-packages (from datasets) (0.70.13)\n",
      "Requirement already satisfied: fsspec[http]>=2021.11.1 in c:\\users\\minh bao\\appdata\\local\\programs\\python\\python39\\lib\\site-packages (from datasets) (2022.10.0)\n",
      "Requirement already satisfied: tqdm>=4.62.1 in c:\\users\\minh bao\\appdata\\local\\programs\\python\\python39\\lib\\site-packages (from datasets) (4.64.0)\n",
      "Requirement already satisfied: xxhash in c:\\users\\minh bao\\appdata\\local\\programs\\python\\python39\\lib\\site-packages (from datasets) (3.1.0)\n",
      "Requirement already satisfied: aiohttp in c:\\users\\minh bao\\appdata\\local\\programs\\python\\python39\\lib\\site-packages (from datasets) (3.8.3)\n",
      "Requirement already satisfied: dill<0.3.6 in c:\\users\\minh bao\\appdata\\local\\programs\\python\\python39\\lib\\site-packages (from datasets) (0.3.5.1)\n",
      "Requirement already satisfied: requests>=2.19.0 in c:\\users\\minh bao\\appdata\\local\\programs\\python\\python39\\lib\\site-packages (from datasets) (2.27.1)\n",
      "Requirement already satisfied: huggingface-hub<1.0.0,>=0.2.0 in c:\\users\\minh bao\\appdata\\local\\programs\\python\\python39\\lib\\site-packages (from datasets) (0.10.1)\n",
      "Requirement already satisfied: packaging in c:\\users\\minh bao\\appdata\\local\\programs\\python\\python39\\lib\\site-packages (from datasets) (21.3)\n",
      "Requirement already satisfied: charset-normalizer<3.0,>=2.0 in c:\\users\\minh bao\\appdata\\local\\programs\\python\\python39\\lib\\site-packages (from aiohttp->datasets) (2.0.12)\n",
      "Requirement already satisfied: multidict<7.0,>=4.5 in c:\\users\\minh bao\\appdata\\local\\programs\\python\\python39\\lib\\site-packages (from aiohttp->datasets) (6.0.2)\n",
      "Requirement already satisfied: frozenlist>=1.1.1 in c:\\users\\minh bao\\appdata\\local\\programs\\python\\python39\\lib\\site-packages (from aiohttp->datasets) (1.3.1)\n",
      "Requirement already satisfied: aiosignal>=1.1.2 in c:\\users\\minh bao\\appdata\\local\\programs\\python\\python39\\lib\\site-packages (from aiohttp->datasets) (1.2.0)\n",
      "Requirement already satisfied: async-timeout<5.0,>=4.0.0a3 in c:\\users\\minh bao\\appdata\\local\\programs\\python\\python39\\lib\\site-packages (from aiohttp->datasets) (4.0.2)\n",
      "Requirement already satisfied: yarl<2.0,>=1.0 in c:\\users\\minh bao\\appdata\\local\\programs\\python\\python39\\lib\\site-packages (from aiohttp->datasets) (1.8.1)\n",
      "Requirement already satisfied: attrs>=17.3.0 in c:\\users\\minh bao\\appdata\\local\\programs\\python\\python39\\lib\\site-packages (from aiohttp->datasets) (22.1.0)\n",
      "Requirement already satisfied: typing-extensions>=3.7.4.3 in c:\\users\\minh bao\\appdata\\local\\programs\\python\\python39\\lib\\site-packages (from huggingface-hub<1.0.0,>=0.2.0->datasets) (4.4.0)\n",
      "Requirement already satisfied: filelock in c:\\users\\minh bao\\appdata\\local\\programs\\python\\python39\\lib\\site-packages (from huggingface-hub<1.0.0,>=0.2.0->datasets) (3.4.2)\n",
      "Requirement already satisfied: pyparsing!=3.0.5,>=2.0.2 in c:\\users\\minh bao\\appdata\\local\\programs\\python\\python39\\lib\\site-packages (from packaging->datasets) (3.0.8)\n",
      "Requirement already satisfied: certifi>=2017.4.17 in c:\\users\\minh bao\\appdata\\local\\programs\\python\\python39\\lib\\site-packages (from requests>=2.19.0->datasets) (2021.10.8)\n",
      "Requirement already satisfied: idna<4,>=2.5 in c:\\users\\minh bao\\appdata\\local\\programs\\python\\python39\\lib\\site-packages (from requests>=2.19.0->datasets) (3.3)\n",
      "Requirement already satisfied: urllib3<1.27,>=1.21.1 in c:\\users\\minh bao\\appdata\\local\\programs\\python\\python39\\lib\\site-packages (from requests>=2.19.0->datasets) (1.26.8)\n",
      "Requirement already satisfied: colorama in c:\\users\\minh bao\\appdata\\local\\programs\\python\\python39\\lib\\site-packages (from tqdm>=4.62.1->datasets) (0.4.4)\n",
      "Requirement already satisfied: python-dateutil>=2.8.1 in c:\\users\\minh bao\\appdata\\local\\programs\\python\\python39\\lib\\site-packages (from pandas->datasets) (2.8.2)\n",
      "Requirement already satisfied: pytz>=2020.1 in c:\\users\\minh bao\\appdata\\local\\programs\\python\\python39\\lib\\site-packages (from pandas->datasets) (2022.1)\n",
      "Requirement already satisfied: six>=1.5 in c:\\users\\minh bao\\appdata\\local\\programs\\python\\python39\\lib\\site-packages (from python-dateutil>=2.8.1->pandas->datasets) (1.16.0)\n",
      "Note: you may need to restart the kernel to use updated packages.\n"
     ]
    },
    {
     "name": "stderr",
     "output_type": "stream",
     "text": [
      "WARNING: You are using pip version 22.0.4; however, version 22.3.1 is available.\n",
      "You should consider upgrading via the 'c:\\Users\\Minh Bao\\AppData\\Local\\Programs\\Python\\Python39\\python.exe -m pip install --upgrade pip' command.\n"
     ]
    }
   ],
   "source": [
    "%pip install transformers\n",
    "%pip install tokenizers\n",
    "%pip install bz2\n",
    "%pip install torch\n",
    "%pip install torch torchvision torchaudio\n",
    "%pip install datasets\n",
    "\n",
    "\n"
   ]
  },
  {
   "cell_type": "code",
   "execution_count": null,
   "metadata": {},
   "outputs": [],
   "source": [
    "from transformers import pipeline\n",
    "from transformers import AutoModel\n",
    "from transformers import AutoTokenizer\n",
    "import transformers\n",
    "import torch\n",
    "from bz2 import decompress\n",
    "import requests\n",
    "import zipfile\n",
    "import bz2\n",
    "import xml.etree.ElementTree as ET\n",
    "import pandas as pd\n",
    "from glob import glob\n",
    "import json\n",
    "import datasets\n"
   ]
  },
  {
   "cell_type": "code",
   "execution_count": null,
   "metadata": {},
   "outputs": [
    {
     "data": {
      "text/plain": [
       "['./e2eqa-train+public_test-v1/zac2022_testa_only_question.json',\n",
       " './e2eqa-train+public_test-v1/zac2022_testa_sample_submission.json',\n",
       " './e2eqa-train+public_test-v1/zac2022_train_merged_final.json',\n",
       " 'e2eqa-train+public_test-v1.zip',\n",
       " 'Question-answering.ipynb',\n",
       " 'viwiki-20220620-pages-articles.xml',\n",
       " 'viwiki-20220620-pages-articles.xml.bz2',\n",
       " 'wikipedia_20220620_all_titles.txt',\n",
       " 'wikipedia_20220620_cleaned.jsonl',\n",
       " 'wikipedia_20220620_cleaned.zip']"
      ]
     },
     "execution_count": 29,
     "metadata": {},
     "output_type": "execute_result"
    }
   ],
   "source": [
    "def all_file_in_directory(path):\n",
    "    res=[]\n",
    "    for f in os.listdir(path):\n",
    "        if os.path.isfile(path+\"/\"+f):\n",
    "            res.append(f)\n",
    "        elif os.path.isdir(f):\n",
    "            base=path+\"/\"+f+\"\"\n",
    "            tmp=all_file_in_directory(base)\n",
    "            for t in tmp:\n",
    "                res.append(base+\"/\"+t)\n",
    "    return res\n",
    "\n",
    "    # return glob(\"*\", recursive = True)\n",
    "\n",
    "all_file_in_directory(\".\")"
   ]
  },
  {
   "cell_type": "code",
   "execution_count": null,
   "metadata": {},
   "outputs": [],
   "source": [
    "train_merged_final='./e2eqa-train+public_test-v1/zac2022_train_merged_final.json'\n",
    "testa_only_question='./e2eqa-train+public_test-v1/zac2022_testa_only_question.json'\n",
    "testa_sample_submission='./e2eqa-train+public_test-v1/zac2022_testa_sample_submission.json'"
   ]
  },
  {
   "cell_type": "code",
   "execution_count": 30,
   "metadata": {},
   "outputs": [],
   "source": [
    "def decompress_bz2_file(file_path, new_file_path):\n",
    "  with open(new_file_path, 'wb') as new_file, bz2.BZ2File(file_path, 'rb') as file:\n",
    "        for data in iter(lambda : file.read(100 * 1024), b''):\n",
    "            new_file.write(data)\n",
    "\n",
    "def decompress_zip_file(file_path):\n",
    "  with zipfile.ZipFile(file_path, 'r') as zip_ref:\n",
    "    zip_ref.extractall(\".\")\n",
    "\n",
    "def download_and_save_file(url, compress_type, cache_file):\n",
    "  file_name=url.split(\"/\")[-1]\n",
    "  if(os.path.exists(file_name)==True and cache_file==True):\n",
    "    print(\"file \", file_name, \"exists, cached\")\n",
    "  else:\n",
    "    r = requests.get(url, allow_redirects=True)\n",
    "    open(file_name, 'wb').write(r.content)\n",
    "  if compress_type==\"zip\":\n",
    "    decompress_zip_file(file_name)\n",
    "  elif compress_type==\"bz2\":\n",
    "    arr=file_name.split(\".\")\n",
    "    arr.pop()\n",
    "    new_file_name='.'.join(arr)\n",
    "    decompress_bz2_file(file_name, new_file_name)"
   ]
  },
  {
   "cell_type": "code",
   "execution_count": 31,
   "metadata": {},
   "outputs": [],
   "source": [
    "dump_url=\"https://dumps.wikimedia.org/viwiki/20220620/viwiki-20220620-pages-articles.xml.bz2\"\n",
    "cleaned_url=\"https://dl-challenge.zalo.ai/e2e-question-answering/wikipedia_20220620_cleaned.zip\"\n",
    "data_url=\"https://dl-challenge.zalo.ai/e2e-question-answering/e2eqa-train+public_test-v1.zip\""
   ]
  },
  {
   "cell_type": "code",
   "execution_count": 12,
   "metadata": {},
   "outputs": [
    {
     "name": "stdout",
     "output_type": "stream",
     "text": [
      "file  viwiki-20220620-pages-articles.xml.bz2 exists, cached\n"
     ]
    }
   ],
   "source": [
    "# download_and_save_file(dump_url, \"bz2\", True)\n",
    "# download_and_save_file(cleaned_url, \"zip\", True)\n",
    "# download_and_save_file(data_url, \"zip\", True)"
   ]
  },
  {
   "cell_type": "code",
   "execution_count": 33,
   "metadata": {},
   "outputs": [
    {
     "name": "stdout",
     "output_type": "stream",
     "text": [
      "tokenizer.is_fast:  True\n"
     ]
    }
   ],
   "source": [
    "# pho_model_name=\"vinai/phobert-base\"\n",
    "# pho_bert=transformers.AutoModel.from_pretrained(pho_model_name)\n",
    "# pho_tokenizer = transformers.AutoTokenizer.from_pretrained(pho_model_name)\n",
    "\n",
    "model_name=\"bert-base-cased\"\n",
    "tokenizer = AutoTokenizer.from_pretrained(model_name)\n",
    "print('tokenizer.is_fast: ', tokenizer.is_fast)"
   ]
  },
  {
   "cell_type": "code",
   "execution_count": 7,
   "metadata": {},
   "outputs": [],
   "source": [
    "# dump_tree=ET.parse(\"viwiki-20220620-pages-articles.xml\")\n",
    "# dump_root=dump_tree.getroot()\n",
    "# print(dump_root)"
   ]
  },
  {
   "cell_type": "code",
   "execution_count": 45,
   "metadata": {},
   "outputs": [],
   "source": [
    "def load_data_from_json(filename):\n",
    "    f=open(filename, encoding=\"utf8\")\n",
    "    data=json.load(f)\n",
    "    f.close()\n",
    "    return data\n",
    "\n",
    "data_merged_final=load_data_from_json(train_merged_final)[\"data\"]\n",
    "# print(data_merged_final)"
   ]
  },
  {
   "cell_type": "code",
   "execution_count": 50,
   "metadata": {},
   "outputs": [
    {
     "name": "stdout",
     "output_type": "stream",
     "text": [
      "Dataset({\n",
      "    features: ['id', 'question', 'title', 'text', 'category', 'is_long_answer'],\n",
      "    num_rows: 20857\n",
      "})\n"
     ]
    }
   ],
   "source": [
    "def convert_list_to_datasetdict(list, columns):\n",
    "    df = pd.DataFrame (list, columns=columns)\n",
    "    dataset=datasets.Dataset.from_dict(df)\n",
    "    return dataset\n",
    "\n",
    "columns_merged_final = ['id', 'question', 'title', 'text', 'category', 'is_long_answer']\n",
    "dataset_merged_final=convert_list_to_datasetdict(data_merged_final, columns_merged_final)\n",
    "print(dataset_merged_final)"
   ]
  },
  {
   "cell_type": "code",
   "execution_count": 28,
   "metadata": {},
   "outputs": [
    {
     "name": "stdout",
     "output_type": "stream",
     "text": [
      "< s >\n",
      "T h ủ\n",
      "t ư ớ n g\n",
      "T r u n g\n",
      "Q u ố c\n",
      "l à\n",
      "g ì\n",
      "< / s >\n",
      "< / s >\n",
      "T h ủ\n",
      "t ư ớ n g\n",
      "T r u n g\n",
      "Q u ố c\n",
      "l à\n",
      "n h â n\n",
      "v ậ t\n",
      "l ã n h\n",
      "đ ạ o\n",
      "c h í n h\n",
      "p h ủ\n",
      ",\n",
      "c h ủ\n",
      "t r ì\n",
      "Q u ố c\n",
      "v ụ\n",
      "v i ệ n\n",
      "g ồ m\n",
      "b ố n\n",
      "p h ó\n",
      "t h ủ\n",
      "t ư ớ n g\n",
      "c ù n g\n",
      "n g ư ờ i\n",
      "đ ứ n g\n",
      "đ ầ u\n",
      "c á c\n",
      "b ộ\n",
      "v à\n",
      "u ỷ\n",
      "b a n\n",
      "c ấ p\n",
      "b ộ\n",
      ".\n",
      "C h ủ\n",
      "t ị c h\n",
      "n ư ớ c\n",
      "đ ư ơ n g\n",
      "n h i ệ m\n",
      "l à\n",
      "T ậ p\n",
      "C ậ n\n",
      "B ì n h\n",
      ",\n",
      "ô n g\n",
      "c ũ n g\n",
      "l à\n",
      "T ổ n g\n",
      "B í\n",
      "t h ư\n",
      "c ủ a\n",
      "Đ ả n g\n",
      "C ộ n g\n",
      "s ả n\n",
      "T r u n g\n",
      "Q u ố c\n",
      "v à\n",
      "C h ủ\n",
      "t ị c h\n",
      "Q u â n\n",
      "u ỷ\n",
      "T r u n g\n",
      "Q u ố c\n",
      ",\n",
      "d o\n",
      "v ậ y\n",
      "ô n g\n",
      "l à\n",
      "l ã n h\n",
      "đ ạ o\n",
      "t ố i\n",
      "c a o\n",
      "c ủ a\n",
      "T r u n g\n",
      "Q u ố c\n",
      ".\n",
      "< / s >\n",
      "dict_keys(['overflowing_tokens', 'num_truncated_tokens', 'input_ids', 'token_type_ids', 'attention_mask'])\n"
     ]
    }
   ],
   "source": [
    "# list=data[\"data\"]\n",
    "# context=list[0][\"text\"]\n",
    "# question=list[0][\"question\"]\n",
    "\n",
    "# inputs = pho_tokenizer(\n",
    "#     question,\n",
    "#     context,\n",
    "#     max_length=100,\n",
    "#     truncation=\"only_second\",\n",
    "#     stride=50,\n",
    "#     return_overflowing_tokens=True,\n",
    "# )\n",
    "\n",
    "# for ids in inputs[\"input_ids\"]:\n",
    "#     print(pho_tokenizer.decode(ids))\n",
    "\n",
    "# print(inputs.keys())"
   ]
  },
  {
   "cell_type": "code",
   "execution_count": 22,
   "metadata": {},
   "outputs": [
    {
     "data": {
      "text/plain": [
       "False"
      ]
     },
     "execution_count": 22,
     "metadata": {},
     "output_type": "execute_result"
    }
   ],
   "source": [
    "# inputs[\"overflowing_tokens\"]\n",
    "\n",
    "# pho_tokenizer.is_fast"
   ]
  },
  {
   "cell_type": "code",
   "execution_count": 51,
   "metadata": {},
   "outputs": [
    {
     "name": "stdout",
     "output_type": "stream",
     "text": [
      "[CLS] Thủ tướng Trung Quốc là gì [SEP] Thủ tướng Trung Quốc là nhân vật lãnh đạo chính phủ, chủ trì Quốc vụ viện gồm bốn phó thủ tướng cùng người đứng đầu các [SEP]\n",
      "[CLS] Thủ tướng Trung Quốc là gì [SEP] phủ, chủ trì Quốc vụ viện gồm bốn phó thủ tướng cùng người đứng đầu các bộ và [UNK] ban cấp bộ. Chủ tịch nước đương nhiệm l [SEP]\n",
      "[CLS] Thủ tướng Trung Quốc là gì [SEP] tướng cùng người đứng đầu các bộ và [UNK] ban cấp bộ. Chủ tịch nước đương nhiệm là Tập Cận Bình, ông cũng là Tổng Bí thư của Đả [SEP]\n",
      "[CLS] Thủ tướng Trung Quốc là gì [SEP]ộ. Chủ tịch nước đương nhiệm là Tập Cận Bình, ông cũng là Tổng Bí thư của Đảng Cộng sản Trung Quốc và Chủ tịch Quân [UNK] Trung Quốc [SEP]\n",
      "[CLS] Thủ tướng Trung Quốc là gì [SEP], ông cũng là Tổng Bí thư của Đảng Cộng sản Trung Quốc và Chủ tịch Quân [UNK] Trung Quốc, do vậy ông là lãnh đạo tối cao của Trung Quốc. [SEP]\n",
      "dict_keys(['input_ids', 'token_type_ids', 'attention_mask', 'offset_mapping', 'overflow_to_sample_mapping'])\n"
     ]
    }
   ],
   "source": [
    "question=dataset_merged_final[0]['question']\n",
    "context=dataset_merged_final[0]['text']\n",
    "\n",
    "inputs = tokenizer(\n",
    "    question,\n",
    "    context,\n",
    "    max_length=100,\n",
    "    truncation=\"only_second\",\n",
    "    stride=50,\n",
    "    return_overflowing_tokens=True,\n",
    "    return_offsets_mapping=True,\n",
    ")\n",
    "\n",
    "for ids in inputs[\"input_ids\"]:\n",
    "    print(tokenizer.decode(ids))\n",
    "\n",
    "print(inputs.keys())"
   ]
  },
  {
   "cell_type": "code",
   "execution_count": 52,
   "metadata": {},
   "outputs": [
    {
     "data": {
      "text/plain": [
       "[0, 0, 0, 0, 0]"
      ]
     },
     "execution_count": 52,
     "metadata": {},
     "output_type": "execute_result"
    }
   ],
   "source": [
    "inputs[\"overflow_to_sample_mapping\"]"
   ]
  },
  {
   "cell_type": "code",
   "execution_count": 54,
   "metadata": {},
   "outputs": [
    {
     "name": "stdout",
     "output_type": "stream",
     "text": [
      "The 4 examples gave 7 features.\n",
      "Here is where each comes from: [0, 0, 1, 1, 2, 3, 3].\n"
     ]
    }
   ],
   "source": [
    "inputs = tokenizer(\n",
    "    dataset_merged_final[2:6]['question'],\n",
    "    dataset_merged_final[2:6]['text'],\n",
    "    max_length=100,\n",
    "    truncation=\"only_second\",\n",
    "    # stride=50,\n",
    "    return_overflowing_tokens=True,\n",
    "    return_offsets_mapping=True,\n",
    ")\n",
    "\n",
    "print(f\"The 4 examples gave {len(inputs['input_ids'])} features.\")\n",
    "print(f\"Here is where each comes from: {inputs['overflow_to_sample_mapping']}.\")"
   ]
  }
 ],
 "metadata": {
  "kernelspec": {
   "display_name": "Python 3.9.7 64-bit",
   "language": "python",
   "name": "python3"
  },
  "language_info": {
   "codemirror_mode": {
    "name": "ipython",
    "version": 3
   },
   "file_extension": ".py",
   "mimetype": "text/x-python",
   "name": "python",
   "nbconvert_exporter": "python",
   "pygments_lexer": "ipython3",
   "version": "3.9.7"
  },
  "orig_nbformat": 4,
  "vscode": {
   "interpreter": {
    "hash": "92e0ba9d630281842927d38b39ceecebc66a88d47406f9668b51ce90177a9b52"
   }
  }
 },
 "nbformat": 4,
 "nbformat_minor": 2
}
